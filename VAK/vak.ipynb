{
 "cells": [
  {
   "cell_type": "code",
   "execution_count": 9,
   "metadata": {},
   "outputs": [],
   "source": [
    "from uncertainties.unumpy  import uarray, nominal_values,std_devs, umatrix\n",
    "from uncertainties import ufloat\n",
    "import matplotlib.pyplot as plt\n",
    "from matplotlib.ticker import MultipleLocator\n",
    "import numpy as np\n",
    "from math import *"
   ]
  },
  {
   "cell_type": "code",
   "execution_count": 6,
   "metadata": {},
   "outputs": [
    {
     "data": {
      "text/plain": [
       "matrix([[1.0+/-4.0, 16.0+/-32.0, 81.0+/-108.0, 256.0+/-256.0]],\n",
       "       dtype=object)"
      ]
     },
     "execution_count": 6,
     "metadata": {},
     "output_type": "execute_result"
    }
   ],
   "source": [
    "m = umatrix([[1, 2, 3, 4], [5, 6, 7, 8]], [[1, 1, 1, 1]])\n",
    "np.power(m[0], 4)"
   ]
  },
  {
   "cell_type": "code",
   "execution_count": 29,
   "metadata": {},
   "outputs": [
    {
     "data": {
      "text/plain": [
       "'$1.23(24) \\\\cdot 10^{-43}$'"
      ]
     },
     "execution_count": 29,
     "metadata": {},
     "output_type": "execute_result"
    }
   ],
   "source": [
    "def round_errtex(num, err,  sig=2):\n",
    "    posof1digit = floor(log10(abs(err)))\n",
    "    magnum = floor(log10(abs(num)))\n",
    "    rnum = round(num, sig-int(floor(log10(abs(err))))-1)\n",
    "    srnum = str(rnum)\n",
    "    if posof1digit < -3:\n",
    "        abrerr = err*10**(sig-int(floor(log10(abs(err))))-1)\n",
    "        tnum = rnum*10**-magnum\n",
    "        return(\"$\" + str(tnum) + '(' + str(ceil(abrerr)) + ')' + \" \\\\cdot 10^{\" + str(magnum) + \"}\" + \"$\")\n",
    "\n",
    "        \n",
    "    elif posof1digit <= 0:\n",
    "        abrerr = err*10**(sig-int(floor(log10(abs(err))))-1)\n",
    "        while len(srnum.split('.')[1]) <= -posof1digit:\n",
    "            srnum += '0'\n",
    "        return(srnum + '(' + str(int(ceil(abrerr))) + ')')\n",
    "    \n",
    "    else:\n",
    "        abrerr = round(err, sig-int(floor(log10(abs(err))))-1)\n",
    "        srnum = str(int(rnum))\n",
    "    \n",
    "\n",
    "        return(srnum + '(' + str(ceil(abrerr)) + ')')\n",
    "\n",
    "round_errtex(0.0001234567e-39, 0.000023456e-39, 2)"
   ]
  }
 ],
 "metadata": {
  "kernelspec": {
   "display_name": "Python 3.9.2 64-bit",
   "language": "python",
   "name": "python3"
  },
  "language_info": {
   "codemirror_mode": {
    "name": "ipython",
    "version": 3
   },
   "file_extension": ".py",
   "mimetype": "text/x-python",
   "name": "python",
   "nbconvert_exporter": "python",
   "pygments_lexer": "ipython3",
   "version": "3.9.2"
  },
  "orig_nbformat": 4,
  "vscode": {
   "interpreter": {
    "hash": "31f2aee4e71d21fbe5cf8b01ff0e069b9275f58929596ceb00d14d90e3e16cd6"
   }
  }
 },
 "nbformat": 4,
 "nbformat_minor": 2
}
